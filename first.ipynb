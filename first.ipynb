{
 "cells": [
  {
   "cell_type": "markdown",
   "metadata": {},
   "source": [
    "#single\n",
    "\"\"\"\n",
    "multi\n",
    "\"\"\" (wont work here, but )"
   ]
  },
  {
   "cell_type": "markdown",
   "metadata": {},
   "source": [
    "n=0\n",
    "if n>10:\n",
    "    d    (the indentaion is usually 4 spaces)      "
   ]
  },
  {
   "cell_type": "markdown",
   "metadata": {},
   "source": [
    "for line continuation in python:\n",
    "\n",
    "n=1+2+3+4+5+\\ (the slash)\n",
    "6+7+8"
   ]
  },
  {
   "cell_type": "markdown",
   "metadata": {},
   "source": [
    "multiple statements on a line \n",
    "x=10;y=5;z=x+y"
   ]
  },
  {
   "cell_type": "markdown",
   "metadata": {},
   "source": [
    "during variable assignment , we dont have to signify datatype to the variable, whatever value we give to the variable , it will understand that thats its datatype,\n",
    "to check type of any variable - type(a )"
   ]
  },
  {
   "cell_type": "code",
   "execution_count": 5,
   "metadata": {},
   "outputs": [],
   "source": [
    "a=\"b\""
   ]
  },
  {
   "cell_type": "code",
   "execution_count": 6,
   "metadata": {},
   "outputs": [
    {
     "name": "stdout",
     "output_type": "stream",
     "text": [
      "hihi\n",
      "hehe\n",
      "hehe\n"
     ]
    }
   ],
   "source": [
    "#time pass example\n",
    "if True:\n",
    "    print(\"hihi\")\n",
    "    if False:  #true and false always start with capital letter  \n",
    "        print(\"haha\")\n",
    "    print(\"hehe\")\n",
    "print(\"hehe\")        "
   ]
  },
  {
   "cell_type": "code",
   "execution_count": 9,
   "metadata": {},
   "outputs": [
    {
     "name": "stdout",
     "output_type": "stream",
     "text": [
      "age: 10\n",
      "10\n"
     ]
    }
   ],
   "source": [
    "age=10\n",
    "print(\"age:\",age)\n",
    "print(age)\n",
    "_age=10 #variabe can start with an underscore as well\n",
    "print(_age)"
   ]
  },
  {
   "cell_type": "code",
   "execution_count": 11,
   "metadata": {},
   "outputs": [
    {
     "data": {
      "text/plain": [
       "bool"
      ]
     },
     "execution_count": 11,
     "metadata": {},
     "output_type": "execute_result"
    }
   ],
   "source": [
    "hehe=True #true and false are boolean variable\n",
    "type(hehe)"
   ]
  },
  {
   "cell_type": "code",
   "execution_count": 15,
   "metadata": {},
   "outputs": [
    {
     "name": "stdout",
     "output_type": "stream",
     "text": [
      "21\n"
     ]
    },
    {
     "data": {
      "text/plain": [
       "str"
      ]
     },
     "execution_count": 15,
     "metadata": {},
     "output_type": "execute_result"
    }
   ],
   "source": [
    "#type conversion(to convert the type of the variable)\n",
    "age=21\n",
    "age_str=str(age)\n",
    "print(age_str);type(age_str)\n",
    "#when we convert the str to int, then \"the\", will get removed and it will just be -  the, but u can only do this to numeric value such as \"21 \""
   ]
  },
  {
   "cell_type": "code",
   "execution_count": 25,
   "metadata": {},
   "outputs": [
    {
     "name": "stdout",
     "output_type": "stream",
     "text": [
      "5 <class 'str'>\n",
      "5 <class 'int'>\n"
     ]
    }
   ],
   "source": [
    "#how to put input \n",
    "a=input(\"enter\") # now this way by default the input will be a string\n",
    "print(a,type(a))\n",
    "b=int(input(\"enter this:\"))\n",
    "print(b,type(b))"
   ]
  },
  {
   "cell_type": "code",
   "execution_count": 26,
   "metadata": {},
   "outputs": [
    {
     "name": "stdout",
     "output_type": "stream",
     "text": [
      "sum: 8\n",
      "diff: 4\n",
      "pro: 12\n",
      "div: 3.0\n"
     ]
    }
   ],
   "source": [
    "#simple calculator\n",
    "num1=int(input(\"enter the number:\"))\n",
    "num2=int(input(\"enter the number:\"))\n",
    "\n",
    "sum=num1+num2\n",
    "diff=num1-num2\n",
    "pro=num1*num2\n",
    "div=num1/num2\n",
    "\n",
    "print(\"sum:\",sum)\n",
    "print(\"diff:\",diff)\n",
    "print(\"pro:\",pro)\n",
    "print(\"div:\",div)\n",
    "\n",
    "\n",
    "\n",
    "\n"
   ]
  },
  {
   "cell_type": "markdown",
   "metadata": {},
   "source": [
    "In Python, the bool() function is used to convert a value to a Boolean value, either True or False. When you call bool() without any arguments, it returns False by default. This is because an empty value, such as None, 0, \"\" (empty string), or an empty list [], is considered False in a Boolean context.\n",
    "\n",
    "print(bool())  # Output: False"
   ]
  },
  {
   "cell_type": "code",
   "execution_count": 29,
   "metadata": {},
   "outputs": [
    {
     "name": "stdout",
     "output_type": "stream",
     "text": [
      "hello helo3\n"
     ]
    }
   ],
   "source": [
    "#concatination of strings\n",
    "a=\"hell\"+\"o\"\n",
    "b=\"helo\"+str(3)  #string and int cant concatinate so we type casted it into string\n",
    "print(a,b)"
   ]
  },
  {
   "cell_type": "code",
   "execution_count": 30,
   "metadata": {},
   "outputs": [],
   "source": [
    "#as for some arithmetics(new ones)\n",
    "\n",
    "modular=a%b #for reminder\n",
    "floor_div=a//b #floors the output to the nearest whole number\n",
    "exponential=a**b #a raised to the power b\n"
   ]
  },
  {
   "cell_type": "code",
   "execution_count": 31,
   "metadata": {},
   "outputs": [
    {
     "data": {
      "text/plain": [
       "False"
      ]
     },
     "execution_count": 31,
     "metadata": {},
     "output_type": "execute_result"
    }
   ],
   "source": [
    "a=1;b=2\n",
    "\n",
    "a==b #equal to comparision\n",
    "a!=b #not equal to comparision \n",
    "#NOT operator(converses the value)\n",
    "c=True\n",
    "not c"
   ]
  },
  {
   "cell_type": "code",
   "execution_count": 1,
   "metadata": {},
   "outputs": [
    {
     "name": "stdout",
     "output_type": "stream",
     "text": [
      "0\n",
      "1\n",
      "2\n",
      "3\n",
      "4\n"
     ]
    }
   ],
   "source": [
    "for i in range(10):\n",
    "    if i==5:\n",
    "        break #the statemnet breaks for the condition given\n",
    "    print(i)\n",
    "    i+=1\n",
    "    "
   ]
  },
  {
   "cell_type": "code",
   "execution_count": 2,
   "metadata": {},
   "outputs": [
    {
     "name": "stdout",
     "output_type": "stream",
     "text": [
      "1\n",
      "2\n",
      "4\n",
      "5\n",
      "7\n",
      "8\n"
     ]
    }
   ],
   "source": [
    "#contine statemnet is for skipping\n",
    "for i in range(10):\n",
    "    if i%3==0:\n",
    "        continue #its like saying, is condition ko skip karke move on \n",
    "    print(i)\n",
    "    i+=1"
   ]
  },
  {
   "cell_type": "code",
   "execution_count": 4,
   "metadata": {},
   "outputs": [
    {
     "name": "stdout",
     "output_type": "stream",
     "text": [
      "['d', 'b', 'c']\n"
     ]
    }
   ],
   "source": [
    "#All the list stuff\n",
    "abc=[\"a\",\"b\",\"c\"]\n",
    "abc[0]\n",
    "abc[0]=\"d\"\n",
    "print(abc)"
   ]
  },
  {
   "cell_type": "code",
   "execution_count": 5,
   "metadata": {},
   "outputs": [
    {
     "name": "stdout",
     "output_type": "stream",
     "text": [
      "['d', 'h', 'a', 'p', 'p', 'y']\n"
     ]
    }
   ],
   "source": [
    "abc[1:]=\"happy\" #it does character by character\n",
    "print(abc)"
   ]
  },
  {
   "cell_type": "code",
   "execution_count": 8,
   "metadata": {},
   "outputs": [
    {
     "name": "stdout",
     "output_type": "stream",
     "text": [
      "['d', 'h', 'a', 'p', 'p', 'y', 'e', 'e', 'e']\n",
      "['d', 'f', 'h', 'a', 'p', 'p', 'y', 'e', 'e', 'e']\n"
     ]
    }
   ],
   "source": [
    "abc.append(\"e\") #add elements at the end\n",
    "print(abc)\n",
    "abc.insert(1,\"f\") # inserts at the index given\n",
    "print(abc)"
   ]
  },
  {
   "cell_type": "code",
   "execution_count": 11,
   "metadata": {},
   "outputs": [
    {
     "name": "stdout",
     "output_type": "stream",
     "text": [
      "['d', 'f', 'p', 'p', 'y', 'e', 'e', 'e']\n"
     ]
    }
   ],
   "source": [
    "abc.remove(\"a\") #removes the element given\n",
    "print(abc)"
   ]
  },
  {
   "cell_type": "code",
   "execution_count": 12,
   "metadata": {},
   "outputs": [
    {
     "name": "stdout",
     "output_type": "stream",
     "text": [
      "['d', 'f', 'p', 'p', 'y', 'e', 'e']\n"
     ]
    }
   ],
   "source": [
    "abc.pop() #removes the last item\n",
    "print(abc)\n"
   ]
  },
  {
   "cell_type": "code",
   "execution_count": 16,
   "metadata": {},
   "outputs": [
    {
     "name": "stdout",
     "output_type": "stream",
     "text": [
      "2\n",
      "None\n"
     ]
    }
   ],
   "source": [
    "#to find the index of the word \n",
    "abc.index(\"d\")\n",
    "print(abc.count(\"p\"))"
   ]
  },
  {
   "cell_type": "code",
   "execution_count": 19,
   "metadata": {},
   "outputs": [
    {
     "data": {
      "text/plain": [
       "['d', 'e', 'e', 'f', 'p', 'p', 'y']"
      ]
     },
     "execution_count": 19,
     "metadata": {},
     "output_type": "execute_result"
    }
   ],
   "source": [
    "abc.sort() #to sort alphabetically\n",
    "abc"
   ]
  },
  {
   "cell_type": "code",
   "execution_count": 25,
   "metadata": {},
   "outputs": [
    {
     "name": "stdout",
     "output_type": "stream",
     "text": [
      "[1, 2, 3, 4, 5]\n",
      "[6, 7, 8, 9]\n",
      "[3, 4, 5]\n",
      "[1, 3, 5, 7, 9]\n",
      "[9, 8, 7, 6, 5, 4, 3, 2, 1]\n"
     ]
    }
   ],
   "source": [
    "nums=[1,2,3,4,5,6,7,8,9]\n",
    "print(nums[:5])\n",
    "print(nums[5:])\n",
    "print(nums[2:5])\n",
    "print(nums[::2])\n",
    "print(nums[::-1])\n"
   ]
  },
  {
   "cell_type": "code",
   "execution_count": 23,
   "metadata": {},
   "outputs": [
    {
     "name": "stdout",
     "output_type": "stream",
     "text": [
      "[9]\n"
     ]
    }
   ],
   "source": [
    "print(nums[-1::])"
   ]
  },
  {
   "cell_type": "code",
   "execution_count": 28,
   "metadata": {},
   "outputs": [
    {
     "name": "stdout",
     "output_type": "stream",
     "text": [
      "0 1\n",
      "1 2\n",
      "2 3\n",
      "3 4\n",
      "4 5\n",
      "5 6\n",
      "6 7\n",
      "7 8\n",
      "8 9\n"
     ]
    }
   ],
   "source": [
    "for index,num in enumerate(nums):\n",
    "    print(index,num)"
   ]
  },
  {
   "cell_type": "code",
   "execution_count": null,
   "metadata": {},
   "outputs": [],
   "source": [
    "nums=[1,2,3,4,5]\n",
    "target=4\n",
    "for i in range(len(nums)):\n",
    "    for j in range(i+1,len(nums))"
   ]
  },
  {
   "cell_type": "code",
   "execution_count": null,
   "metadata": {},
   "outputs": [],
   "source": [
    "nums=[1,2,3,4,5]\n",
    "target=5\n",
    "for i in range(len(nums)):\n",
    "    for j in range(i+1,len(nums)):\n",
    "        if(nums[i]+nums[j]==target):\n",
    "            print(\"ans:\",i,j)\n",
    "    else:\n",
    "        i+=1"
   ]
  }
 ],
 "metadata": {
  "kernelspec": {
   "display_name": "learnenv",
   "language": "python",
   "name": "python3"
  },
  "language_info": {
   "codemirror_mode": {
    "name": "ipython",
    "version": 3
   },
   "file_extension": ".py",
   "mimetype": "text/x-python",
   "name": "python",
   "nbconvert_exporter": "python",
   "pygments_lexer": "ipython3",
   "version": "3.11.7"
  }
 },
 "nbformat": 4,
 "nbformat_minor": 2
}
